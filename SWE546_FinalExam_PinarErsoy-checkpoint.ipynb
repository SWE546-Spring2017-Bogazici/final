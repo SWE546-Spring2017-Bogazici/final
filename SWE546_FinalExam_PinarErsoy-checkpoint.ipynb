{
 "cells": [
  {
   "cell_type": "code",
   "execution_count": 1,
   "metadata": {
    "collapsed": true
   },
   "outputs": [],
   "source": [
    "%matplotlib inline\n",
    "import numpy as np\n",
    "import matplotlib as mpl\n",
    "import matplotlib.pylab as plt\n",
    "\n",
    "# Generate a random logistic regression problem\n",
    "\n",
    "def sigmoid(t):\n",
    "    return np.exp(t)/(1+np.exp(t))\n",
    "\n",
    "I = 5\n",
    "J = 10\n",
    "\n",
    "# Random Mask \n",
    "M = np.random.rand(I,J)<0.8\n",
    "\n",
    "# Random Parameters\n",
    "W = np.random.randn(I,1)\n",
    "H = np.random.randn(1,J)\n",
    "\n",
    "Y = np.zeros((I,J))\n",
    "# Generate class labels\n",
    "pi = sigmoid(W*H)\n",
    "\n",
    "for i in range(I):\n",
    "    for j in range(J):\n",
    "        if not M[i,j]:\n",
    "            Y[i,j] = np.nan\n",
    "        else:\n",
    "            Y[i,j] = 1 if pi[i,j] < np.random.rand() else 0\n"
   ]
  },
  {
   "cell_type": "code",
   "execution_count": 25,
   "metadata": {
    "collapsed": true
   },
   "outputs": [],
   "source": [
    "# Final Exam Question\n",
    "# Logistic Matrix Factorization\n",
    "\n",
    "# In order to solve the problem, a related algorithm should be defined\n",
    "\n",
    "def LogMatrixFactorization(W,H,Y,M,Epoch=500,eta=0.05,nu=0.1):\n",
    "    Hj_AfterIncrements=H.copy()\n",
    "    Wi_AfterIncrements=W.copy()\n",
    "    for epoch in range(Epoch):\n",
    "        dL = np.dot(Wi_AfterIncrements.T, Mask*(Y-sigmoid(np.dot(Wi_AfterIncrements,Hj_AfterIncrements)))) -nu*Hj_AfterIncrements\n",
    "        Hj_AfterIncrements = Hj_AfterIncrements + eta*dL\n",
    "        dL = np.dot(Mask*(Y-sigmoid(np.dot(Wi_AfterIncrements,Hj_AfterIncrements))),Hj_AfterIncrements.T )-nu*Wi_AfterIncrements\n",
    "        Wi_AfterIncrements = Wi_AfterIncrements + eta*dL\n",
    "    return Wi_AfterIncrements,Hj_AfterIncrements"
   ]
  },
  {
   "cell_type": "code",
   "execution_count": 26,
   "metadata": {
    "collapsed": false
   },
   "outputs": [],
   "source": [
    "# Generate a number of values for the \n",
    "FirstValue_Wi = np.random.randn(I,1)\n",
    "FirstValue_Hj= np.random.randn(1,J)\n",
    "\n",
    "# Create a new array for Mask values i and j\n",
    "Mask=M.astype(int)\n",
    "\n",
    "# Calculate the values of Wi and Hj\n",
    "Wi_AfterIncrements,Hj_AfterIncrements=LogMatrixFactorization(FirstValue_Wi,FirstValue_Hj,Y,Mask,Epoch=500,eta=0.05,nu=0.1)"
   ]
  },
  {
   "cell_type": "code",
   "execution_count": 30,
   "metadata": {
    "collapsed": false
   },
   "outputs": [
    {
     "name": "stdout",
     "output_type": "stream",
     "text": [
      "[[-0.54554403]\n",
      " [ 0.35096674]\n",
      " [-0.3658748 ]\n",
      " [-0.11411764]\n",
      " [-0.67977135]]\n"
     ]
    }
   ],
   "source": [
    "# Print the first value of W\n",
    "print(W)"
   ]
  },
  {
   "cell_type": "code",
   "execution_count": 32,
   "metadata": {
    "collapsed": false
   },
   "outputs": [
    {
     "name": "stdout",
     "output_type": "stream",
     "text": [
      "[[ nan]\n",
      " [ nan]\n",
      " [ nan]\n",
      " [ nan]\n",
      " [ nan]]\n"
     ]
    }
   ],
   "source": [
    "# Print the last value of W\n",
    "print(Wi_AfterIncrements)"
   ]
  },
  {
   "cell_type": "code",
   "execution_count": 33,
   "metadata": {
    "collapsed": false
   },
   "outputs": [
    {
     "name": "stdout",
     "output_type": "stream",
     "text": [
      "[[-0.41375058  0.69388994  0.1123493  -0.45164342 -0.42376989 -0.76964564\n",
      "   0.83697747  0.35397581 -0.6141148  -0.17264081]]\n"
     ]
    }
   ],
   "source": [
    "# Print the first value of H\n",
    "print(H)"
   ]
  },
  {
   "cell_type": "code",
   "execution_count": 34,
   "metadata": {
    "collapsed": false
   },
   "outputs": [
    {
     "name": "stdout",
     "output_type": "stream",
     "text": [
      "[[ nan  nan  nan  nan  nan  nan  nan  nan  nan  nan]]\n"
     ]
    }
   ],
   "source": [
    "# Print the last value of H\n",
    "print(Hj_AfterIncrements)"
   ]
  },
  {
   "cell_type": "code",
   "execution_count": 35,
   "metadata": {
    "collapsed": false
   },
   "outputs": [
    {
     "name": "stdout",
     "output_type": "stream",
     "text": [
      "[[1 1 1 1 1 1 1 1 0 1]\n",
      " [1 1 1 1 1 1 1 1 0 1]\n",
      " [1 1 0 1 1 1 1 0 1 0]\n",
      " [0 1 1 1 1 1 0 1 1 1]\n",
      " [1 1 0 1 1 1 1 1 1 1]]\n"
     ]
    }
   ],
   "source": [
    "# Print the last value of Mask M(i,j)\n",
    "print(Mask)"
   ]
  }
 ],
 "metadata": {
  "kernelspec": {
   "display_name": "Python 2",
   "language": "python",
   "name": "python2"
  },
  "language_info": {
   "codemirror_mode": {
    "name": "ipython",
    "version": 2
   },
   "file_extension": ".py",
   "mimetype": "text/x-python",
   "name": "python",
   "nbconvert_exporter": "python",
   "pygments_lexer": "ipython2",
   "version": "2.7.13"
  }
 },
 "nbformat": 4,
 "nbformat_minor": 2
}
