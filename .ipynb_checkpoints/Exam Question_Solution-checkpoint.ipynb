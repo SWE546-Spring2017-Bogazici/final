{
 "cells": [
  {
   "cell_type": "markdown",
   "metadata": {},
   "source": [
    "## Logistic Matrix Factorization\n",
    "\n",
    "Maximize the following :\n",
    "\n",
    "$$\n",
    "\\mathcal{L}(W, H) = \\sum_{i=1}^I \\sum_{j=1}^J M(i,j) ( Y(i,j) \\log (\\sigma(W(i) H(j))) + (1 - Y(i,j)) \\log(1 - \\sigma(W(i) H(j))) )\n",
    "$$\n",
    "\n",
    "Observed $I\\times J$ binary matrix with possibly missing entries\n",
    "$Y(i,j) \\in \\{0,1\\}$\n",
    "\n",
    "Mask Matrix\n",
    "$M(i,j) = 1$ if $Y(i,j)$ is observed, $M(i,j) = 0$ if $Y(i,j)$ is not observed\n",
    "\n",
    "\n",
    "Here:\n",
    "\n",
    "$\\sigma(x)$ is the sigmoid function defined as\n",
    "\\begin{eqnarray}\n",
    "\\sigma(x) & = & \\frac{1}{1+e^{-x}}\n",
    "\\end{eqnarray}\n",
    "\n",
    "\n",
    "### Properties of the sigmoid function\n",
    "Note that\n",
    "\n",
    "\\begin{eqnarray}\n",
    "\\sigma(x) & = & \\frac{e^x}{(1+e^{-x})e^x} = \\frac{e^x}{1+e^{x}} \\\\\n",
    "1 - \\sigma(x) & = & 1 - \\frac{e^x}{1+e^{x}} = \\frac{1+e^{x} - e^x}{1+e^{x}} = \\frac{1}{1+e^{x}}\n",
    "\\end{eqnarray}\n",
    "\n",
    "\\begin{eqnarray}\n",
    "\\sigma'(x) & = & \\frac{e^x(1+e^{x}) - e^{x} e^x}{(1+e^{x})^2} = \\frac{e^x}{1+e^{x}}\\frac{1}{1+e^{x}} = \\sigma(x) (1-\\sigma(x))\n",
    "\\end{eqnarray}\n",
    "\n",
    "\\begin{eqnarray}\n",
    "\\log \\sigma(x) & = & -\\log(1+e^{-x}) = x - \\log(1+e^{x}) \\\\\n",
    "\\log(1 - \\sigma(x)) & = &  -\\log({1+e^{x}})\n",
    "\\end{eqnarray}\n",
    "\n"
   ]
  },
  {
   "cell_type": "code",
   "execution_count": 154,
   "metadata": {
    "collapsed": false
   },
   "outputs": [],
   "source": [
    "%matplotlib inline\n",
    "import numpy as np\n",
    "import matplotlib as mpl\n",
    "import matplotlib.pylab as plt\n",
    "\n",
    "\n",
    "# Generate a random logistic regression problem\n",
    "\n",
    "def sigmoid(t):\n",
    "    return np.exp(t)/(1+np.exp(t))\n",
    "\n",
    "I = 5\n",
    "J = 10\n",
    "\n",
    "# Random Mask \n",
    "Mask = (np.random.rand(I,J)<0.8).astype(int)\n",
    "\n",
    "# Random Parameters\n",
    "W = np.random.randn(I,1)\n",
    "H = np.random.randn(1,J)\n",
    "\n",
    "Y = np.zeros((I,J))\n",
    "# Generate class labels\n",
    "pi = sigmoid(W*H)\n",
    "\n",
    "for i in range(I):\n",
    "    for j in range(J):\n",
    "        if Mask[i,j]==0:\n",
    "            Y[i,j] = 0\n",
    "        else:\n",
    "            Y[i,j] = 1 if pi[i,j] < np.random.rand() else 0\n"
   ]
  },
  {
   "cell_type": "markdown",
   "metadata": {},
   "source": [
    "Task: \n",
    "Given $Y$ and $M$ only find a good $W$ and $H$ by maximizing the objective $\\mathcal{L}$"
   ]
  },
  {
   "cell_type": "markdown",
   "metadata": {},
   "source": [
    "#### Evaluating the gradient \n",
    "\n",
    "$$\n",
    "\\frac{d\\mathcal{L}(W,H)}{dW(i)} = \\sum_{j=1}^J (M(i,j) (Y(i,j) -\\sigma(W(i) H(j)))) H(j)\n",
    "$$\n",
    "\n",
    "$$\n",
    "\\frac{d\\mathcal{L}(W,H)}{dH(j)} = \\sum_{i=1}^I  W(i) (M(i,j) (Y(i,j) -\\sigma(W(i) H(j))))\n",
    "$$\n",
    "\n",
    "\n",
    "Then use alternating gradient descent \n"
   ]
  },
  {
   "cell_type": "code",
   "execution_count": 155,
   "metadata": {
    "collapsed": false
   },
   "outputs": [
    {
     "name": "stdout",
     "output_type": "stream",
     "text": [
      "[[ 1.  0.  0.  0.  1.  1.  0.  0.  0.  0.]\n",
      " [ 1.  0.  1.  1.  1.  1.  0.  1.  0.  1.]\n",
      " [ 0.  0.  0.  0.  0.  1.  1.  0.  0.  0.]\n",
      " [ 0.  0.  0.  1.  0.  0.  1.  0.  0.  1.]\n",
      " [ 0.  1.  1.  0.  1.  0.  0.  0.  0.  1.]]\n",
      "[[1 0 0 1 1 1 0 0 1 1]\n",
      " [1 0 1 1 1 1 1 1 0 1]\n",
      " [1 1 1 0 0 1 1 1 1 0]\n",
      " [1 1 1 1 1 1 1 1 1 1]\n",
      " [1 1 1 0 1 0 0 1 1 1]]\n"
     ]
    }
   ],
   "source": [
    "print(Y)\n",
    "print(Mask)"
   ]
  },
  {
   "cell_type": "code",
   "execution_count": 158,
   "metadata": {
    "collapsed": false
   },
   "outputs": [],
   "source": [
    "def LogisticMF(Y, I, J, Mask, eta=0.005, MAX_ITER = 50000, PRINT_PERIOD=5000):\n",
    "    W = np.random.randn(I,1)\n",
    "    H = np.random.randn(1,J)\n",
    "    \n",
    "    for epoch in range(MAX_ITER):\n",
    "        dL_H = np.dot(W.T, Mask * (Y - sigmoid(np.dot(W, H))))\n",
    "        H = H + eta * dL_H\n",
    "        dL_W = np.dot(Mask * (Y - sigmoid(np.dot(W, H))), H.T)\n",
    "        W = W + eta * dL_W\n",
    "\n",
    "        if epoch % PRINT_PERIOD == 0:\n",
    "            print(W)  \n",
    "            print(H) \n",
    "\n",
    "    return W,H"
   ]
  },
  {
   "cell_type": "code",
   "execution_count": 160,
   "metadata": {
    "collapsed": false
   },
   "outputs": [
    {
     "name": "stdout",
     "output_type": "stream",
     "text": [
      "[[-0.59853249]\n",
      " [-1.00980969]\n",
      " [-1.18747045]\n",
      " [ 0.8264081 ]\n",
      " [-0.9334108 ]]\n",
      "[[-1.52471587  0.21051811  0.16172195  1.03355992  0.28584235  0.61379512\n",
      "  -1.30742369 -0.41418527 -0.28663207 -0.09554908]]\n",
      "[[-4.92519246]\n",
      " [-1.21783232]\n",
      " [ 1.25909322]\n",
      " [ 6.34424323]\n",
      " [-0.25344606]]\n",
      "[[-2.27921945 -3.70601311 -4.19256918  0.46398825 -3.9314447  -0.57337607\n",
      "   3.36365384 -2.26253436 -0.07454671  0.43481575]]\n",
      "[[-6.48146073]\n",
      " [-1.32824191]\n",
      " [ 1.33335497]\n",
      " [ 8.20696922]\n",
      " [-0.29567837]]\n",
      "[[-1.94872381 -5.32877394 -5.69687769  0.3849627  -5.4778733  -0.48590044\n",
      "   3.93876482 -1.94854542 -0.0502956   0.36081717]]\n",
      "[[-7.61765621]\n",
      " [-1.39925684]\n",
      " [ 1.38696054]\n",
      " [ 9.58418244]\n",
      " [-0.28552105]]\n",
      "[[-1.91513558 -6.44780064 -6.73307351  0.34332918 -6.55981644 -0.43770952\n",
      "   4.20049512 -1.91511621 -0.04083961  0.32428402]]\n",
      "[[ -8.52922824]\n",
      " [ -1.44652826]\n",
      " [  1.42137129]\n",
      " [ 10.70917279]\n",
      " [ -0.27305145]]\n",
      "[[-1.9199935  -7.33799721 -7.56972058  0.31669811 -7.42795751 -0.40677469\n",
      "   4.3652793  -1.91998995 -0.03548277  0.30082837]]\n",
      "[[ -9.30008796]\n",
      " [ -1.48342528]\n",
      " [  1.44827421]\n",
      " [ 11.67606829]\n",
      " [ -0.26239276]]\n",
      "[[-1.92787239 -8.09134117 -8.2860557   0.29740174 -8.16653856 -0.38422365\n",
      "   4.48357052 -1.92787158 -0.03197652  0.28367331]]\n",
      "[[ -9.97344614]\n",
      " [ -1.51369447]\n",
      " [  1.47033937]\n",
      " [ 12.53315202]\n",
      " [ -0.2533844 ]]\n",
      "[[-1.93556554 -8.75110533 -8.91877529  0.28248139 -8.81567352 -0.36671238\n",
      "   4.57470139 -1.93556532 -0.02947159  0.27030205]]\n",
      "[[-10.57446816]\n",
      " [ -1.53923687]\n",
      " [  1.48888744]\n",
      " [ 13.30859722]\n",
      " [ -0.24566522]]\n",
      "[[-1.94274424 -9.34201957 -9.48907063  0.27044676 -9.39854698 -0.35254823\n",
      "   4.64823517 -1.94274417 -0.02757665  0.25944591]]\n",
      "[[-11.1192427 ]\n",
      " [ -1.56126367]\n",
      " [  1.50479968]\n",
      " [ 14.02047015]\n",
      " [ -0.23895318]]\n",
      "[[ -1.94938476  -9.87977342 -10.01058353   0.26044062  -9.92999624\n",
      "   -0.34074806   4.70954909  -1.94938473  -0.02608476   0.25037031]]\n",
      "[[-11.61876498]\n",
      " [ -1.5805915 ]\n",
      " [  1.51868616]\n",
      " [ 14.68115421]\n",
      " [ -0.23304085]]\n",
      "[[ -1.95551967 -10.37502324 -10.49270843   0.25192852 -10.42016615\n",
      "   -0.33069473   4.76193519  -1.95551966  -0.02487508   0.24261419]]\n"
     ]
    }
   ],
   "source": [
    "W, H = LogisticMF(Y, I, J, Mask)"
   ]
  },
  {
   "cell_type": "code",
   "execution_count": null,
   "metadata": {
    "collapsed": true
   },
   "outputs": [],
   "source": []
  }
 ],
 "metadata": {
  "kernelspec": {
   "display_name": "Python 3",
   "language": "python",
   "name": "python3"
  },
  "language_info": {
   "codemirror_mode": {
    "name": "ipython",
    "version": 3
   },
   "file_extension": ".py",
   "mimetype": "text/x-python",
   "name": "python",
   "nbconvert_exporter": "python",
   "pygments_lexer": "ipython3",
   "version": "3.6.0"
  }
 },
 "nbformat": 4,
 "nbformat_minor": 0
}
